{
 "cells": [
  {
   "cell_type": "code",
   "execution_count": null,
   "id": "27ba2b5d",
   "metadata": {},
   "outputs": [],
   "source": [
    "import numpy as np\n",
    "import matplotlib.pyplot as plt\n",
    "from scipy.special import gamma\n",
    "from tensorflow_probability.substrates import numpy as tfp\n",
    "tfd = tfp.distributions"
   ]
  },
  {
   "cell_type": "code",
   "execution_count": null,
   "id": "c52bcee3",
   "metadata": {},
   "outputs": [],
   "source": [
    "rho = 5\n",
    "alpha = 0.3\n",
    "\n",
    "z_grid = np.arange(-25, 25)\n",
    "phis = rho * np.sqrt(np.pi) * alpha * np.exp(- (np.pi * alpha * z_grid)**2)\n",
    "lambs = phis / (1 - phis)\n",
    "\n",
    "\n",
    "def gaussian_dens_kernel(x, y):\n",
    "    tmp =  x[:, np.newaxis] - y[np.newaxis, :]\n",
    "    dotprod = np.einsum('i,jk->ijk', z_grid, tmp)\n",
    "    out = np.sum(np.cos(2 * np.pi * dotprod) * lambs[:, np.newaxis, np.newaxis], axis=0)\n",
    "    return out\n",
    "\n",
    "\n",
    "def conditional_gaussian_dens_kernel(x, y, ystar):\n",
    "    A = gaussian_dens_kernel(x, y)\n",
    "    B = gaussian_dens_kernel(x, ystar)\n",
    "    C = gaussian_dens_kernel(ystar, ystar)\n",
    "    D = gaussian_dens_kernel(ystar, y)\n",
    "    return A - B @ np.linalg.inv(C) @ D\n",
    "\n",
    "\n",
    "def gaussian_mom_kernel(x, y):\n",
    "    tmp =  x[:, np.newaxis] - y[np.newaxis, :]\n",
    "    return rho * np.exp(- (tmp / alpha)**2)\n",
    "\n",
    "\n",
    "def gaussian_mom_dens(x):\n",
    "    return np.linalg.det(gaussian_mom_kernel(x, x))\n",
    "\n",
    "\n",
    "def conditional_gaussiam_mom_kernel(x, y, ystar):\n",
    "    A = gaussian_mom_kernel(x, y)\n",
    "    B = gaussian_mom_kernel(x, ystar)\n",
    "    C = gaussian_mom_kernel(ystar, ystar)\n",
    "    D = gaussian_mom_kernel(ystar, y)\n",
    "    return A - B @ np.linalg.inv(C) @ D\n",
    "\n",
    "\n",
    "def get_conditional_eigvals(ystar):\n",
    "    x = np.linspace(-0.5, 0.5, 500)\n",
    "    #out1 = np.linalg.eigh(conditional_gaussian_dens_kernel(x, x, ystar))[0] * (x[1] - x[0])\n",
    "    #out = np.clip(out1, a_min=0, a_max=np.inf)\n",
    "    #out = out / (1 + out)\n",
    "    out = np.linalg.eigh(conditional_gaussiam_mom_kernel(x, x, ystar))[0] * (x[1] - x[0])\n",
    "    out = np.clip(out, 0, 1)\n",
    "    return out[-len(phis):]\n",
    "\n",
    "\n",
    "def get_bernoulli_sum_pmf(pvals, nsim=50000):\n",
    "    vals = np.array([np.random.binomial(1, p, nsim) for p in pvals])\n",
    "    vals = np.sum(vals, axis=0)\n",
    "    cnts = np.array([np.sum(vals == i) for i in range(len(pvals))])\n",
    "    return cnts / nsim\n",
    "\n",
    "\n",
    "def marginal_dpp_dist(ystar, alpha, ndata):\n",
    "    k = len(ystar)\n",
    "    pvals = get_conditional_eigvals(ystar)\n",
    "    qr = get_bernoulli_sum_pmf(pvals)\n",
    "    tmp = qr * gamma(k + np.arange(len(qr)) * alpha) / \\\n",
    "        gamma(k + np.arange(len(qr)) * alpha + ndata)\n",
    "    out = np.sum(tmp) * gaussian_mom_dens(ystar)\n",
    "    return out\n",
    "\n",
    "\n",
    "def marginal_pois_dist(ystar, alpha, rho, ndata):\n",
    "    k = len(ystar)\n",
    "    qr = tfd.Poisson(rho).prob(np.arange(30))\n",
    "    tmp = qr * gamma((k + np.arange(len(qr))) * alpha) / \\\n",
    "        gamma((k + np.arange(len(qr))) * alpha + ndata)\n",
    "    out = np.sum(tmp) * rho ** 2\n",
    "    return out"
   ]
  },
  {
   "cell_type": "code",
   "execution_count": null,
   "id": "a5eaa6aa",
   "metadata": {},
   "outputs": [],
   "source": [
    "dpp_out = []\n",
    "pois_out = []\n",
    "dist = np.linspace(0.001, 0.2, 10)\n",
    "\n",
    "for d in dist:\n",
    "    ystar = np.array([-d, d])\n",
    "    dpp_out.append(marginal_dpp_dist(ystar, 1.0, 5))\n",
    "    pois_out.append(marginal_pois_dist(ystar, 1.0, 1.0, 5))   \n",
    "    \n",
    "dpp_out = np.array(dpp_out)\n",
    "pois_out = np.array(pois_out)"
   ]
  },
  {
   "cell_type": "code",
   "execution_count": null,
   "id": "e2f5af45",
   "metadata": {},
   "outputs": [],
   "source": [
    "dpp_out2 = []\n",
    "dist = np.linspace(0.001, 0.2, 10)\n",
    "for d in dist:\n",
    "    ystar = np.array([-0.3, - 0.3 + 2 * d])\n",
    "    dpp_out2.append(marginal_dpp_dist(ystar, 1.0, 5))\n",
    "\n",
    "dpp_out2 = np.array(dpp_out2)"
   ]
  },
  {
   "cell_type": "code",
   "execution_count": null,
   "id": "3647ffca",
   "metadata": {},
   "outputs": [],
   "source": [
    "dpp_out3 = []\n",
    "dist = np.linspace(0.001, 0.2, 10)\n",
    "for d in dist:\n",
    "    ystar = np.array([-d, 0, d])\n",
    "    dpp_out3.append(marginal_dpp_dist(ystar, 1.0, 5))\n",
    "\n",
    "dpp_out3 = np.array(dpp_out3)"
   ]
  },
  {
   "cell_type": "code",
   "execution_count": null,
   "id": "7b08651a",
   "metadata": {},
   "outputs": [],
   "source": [
    "fig, axes = plt.subplots(nrows=1, ncols=3, figsize=(15, 5))\n",
    "\n",
    "axes[0].plot(2 * dist, pois_out, linestyle=\"-\", color=\"black\", linewidth=2, label=\"Poi\")\n",
    "axes[0].plot(2 * dist, dpp_out, linestyle=\"--\", color=\"black\", label=\"DPP\")\n",
    "\n",
    "axes[1].plot(2*dist, dpp_out, linestyle=\"--\", color=\"black\", label=\"DPP\")\n",
    "axes[1].plot(2*dist, dpp_out2, linestyle=\"-.\", color=\"black\", label=\"DPP\")\n",
    "\n",
    "axes[2].plot(2*dist, dpp_out, linestyle=\"--\", color=\"black\", label=\"DPP\")\n",
    "axes[2].plot(2*dist, dpp_out3, linestyle=\":\", color=\"black\", label=\"DPP\")\n",
    "plt.savefig(\"dpp_vs_pois.pdf\", bbox_inches=\"tight\")"
   ]
  },
  {
   "cell_type": "code",
   "execution_count": null,
   "id": "1fcce88e",
   "metadata": {},
   "outputs": [],
   "source": [
    "plt.rcParams.update({\n",
    "  \"text.usetex\": True})\n",
    "\n",
    "plt.plot(2 * dist, pois_out, linewidth=2, label=\"Poi\")\n",
    "plt.plot(2 * dist, dpp_out, linewidth=2, label=\"DPP\")\n",
    "plt.title(\"$P(Y^* = (-x, x))$\", fontsize=18)\n",
    "plt.legend(fontsize=15)\n",
    "plt.savefig(\"dpp_poi1.pdf\", bbox_inches=\"tight\")"
   ]
  },
  {
   "cell_type": "code",
   "execution_count": null,
   "id": "bf087df2",
   "metadata": {},
   "outputs": [],
   "source": [
    "plt.plot(2*dist, dpp_out, color=\"orange\", label=\"$Y^* = (-x, x)$\")\n",
    "plt.plot(2*dist, dpp_out2, color=\"forestgreen\", label=\"$Y^* = (-0.3, -0.3 + 2x)$\")\n",
    "plt.legend(fontsize=15)\n",
    "plt.savefig(\"dpp_poi2.pdf\", bbox_inches=\"tight\")"
   ]
  },
  {
   "cell_type": "code",
   "execution_count": null,
   "id": "2ce03b7f",
   "metadata": {},
   "outputs": [],
   "source": [
    "plt.plot(2*dist, dpp_out, color=\"orange\", label=\"$Y^* = (-x, x)$\")\n",
    "plt.plot(2*dist, dpp_out3, color=\"red\", label=\"$Y^* = (-x, 0, x)$\")\n",
    "plt.legend(fontsize=15)\n",
    "plt.savefig(\"dpp_poi3.pdf\", bbox_inches=\"tight\")"
   ]
  }
 ],
 "metadata": {
  "kernelspec": {
   "display_name": "Python 3 (ipykernel)",
   "language": "python",
   "name": "python3"
  },
  "language_info": {
   "codemirror_mode": {
    "name": "ipython",
    "version": 3
   },
   "file_extension": ".py",
   "mimetype": "text/x-python",
   "name": "python",
   "nbconvert_exporter": "python",
   "pygments_lexer": "ipython3",
   "version": "3.10.2"
  }
 },
 "nbformat": 4,
 "nbformat_minor": 5
}
