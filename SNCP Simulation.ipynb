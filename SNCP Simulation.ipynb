{
 "cells": [
  {
   "cell_type": "code",
   "execution_count": null,
   "id": "9a621d9d",
   "metadata": {},
   "outputs": [],
   "source": [
    "import numpy as np\n",
    "import matplotlib.pyplot as plt\n",
    "\n",
    "import matplotlib.patches as patches\n",
    "\n",
    "import sncp_algorithm as algo\n",
    "\n",
    "from tensorflow_probability.substrates import numpy as tfp\n",
    "tfd = tfp.distributions\n",
    "\n",
    "\n",
    "import logging\n",
    "logger = logging.getLogger(\"root\")\n",
    "\n",
    "\n",
    "class CheckTypesFilter(logging.Filter):\n",
    "    def filter(self, record):\n",
    "        return \"check_types\" not in record.getMessage()\n",
    "\n",
    "\n",
    "logger.addFilter(CheckTypesFilter())"
   ]
  },
  {
   "cell_type": "code",
   "execution_count": null,
   "id": "0fcc2748",
   "metadata": {},
   "outputs": [],
   "source": [
    "data = np.concatenate([\n",
    "    tfd.StudentT(5, 0, 1).sample(100) - 5,\n",
    "    tfd.StudentT(5, 0, 1).sample(100) +5\n",
    "])\n",
    "data = np.sort(data)\n",
    "plt.hist(data)\n",
    "plt.show()"
   ]
  },
  {
   "cell_type": "code",
   "execution_count": null,
   "id": "0540d8d4",
   "metadata": {},
   "outputs": [],
   "source": [
    "import seaborn as sns\n",
    "from sklearn.metrics import pairwise_distances\n",
    "from scipy.stats import gaussian_kde\n",
    "\n",
    "from scipy.signal import argrelextrema\n",
    "\n",
    "grid = np.linspace(0, 20, 500)\n",
    "dists = np.sort(pairwise_distances(data.reshape(-1, 1)).reshape(-1,))\n",
    "kde_dens = gaussian_kde(dists)\n",
    "eval_dens = kde_dens.pdf(grid)\n",
    "argmins = argrelextrema(eval_dens, np.less)[0]\n",
    "\n",
    "plt.plot(grid, eval_dens, color=\"k\")\n",
    "plt.vlines(grid[argmins[0]], ymin=0, ymax=1, color=\"r\")\n",
    "plt.ylim((0, 0.2))\n",
    "plt.title(r\"Pairwise Distances - $t$ Data\", fontsize=18)\n",
    "plt.savefig(\"t_distances.pdf\", bbox_inches=\"tight\")"
   ]
  },
  {
   "cell_type": "code",
   "execution_count": null,
   "id": "de4f19df",
   "metadata": {},
   "outputs": [],
   "source": [
    "data = np.sort(data)"
   ]
  },
  {
   "cell_type": "code",
   "execution_count": null,
   "id": "9db89068",
   "metadata": {},
   "outputs": [],
   "source": [
    "from sncp_state import State, Prior"
   ]
  },
  {
   "cell_type": "code",
   "execution_count": null,
   "id": "9d70b406",
   "metadata": {},
   "outputs": [],
   "source": [
    "prior = Prior(\n",
    "  alpha = 2.0,\n",
    "  big_mean = 0,\n",
    "  big_var = np.var(data) * 5,\n",
    "  gamma = 0.5,\n",
    "  jump_a = 1.0,\n",
    "  jump_b = 10.0,\n",
    "  var_a = 3.0,\n",
    "  var_b = 3.0\n",
    ")\n",
    "\n",
    "n_atoms = 5\n",
    "\n",
    "alloc_atoms = np.hstack([np.random.normal(0, np.std(data) * 3, size=(n_atoms, 1)),\n",
    "                           np.ones((n_atoms, 1)) * 1])\n",
    "non_alloc_atoms = np.hstack([np.random.normal(0, np.std(data) * 3, size=(n_atoms, 1)),\n",
    "                               np.ones((n_atoms, 1))])\n",
    "\n",
    "state = State(\n",
    "  iter = 0,\n",
    "  clus = np.random.choice(np.arange(n_atoms), len(data)),\n",
    "  alloc_atoms = alloc_atoms,\n",
    "  non_alloc_atoms = non_alloc_atoms,\n",
    "  alloc_jumps = np.ones(n_atoms),\n",
    "  non_alloc_jumps = np.ones(n_atoms),\n",
    "  u = 5,\n",
    "  latent_centers = np.array([-5, 5]),\n",
    "  t_vals = np.random.choice(np.arange(2), 2 * n_atoms)\n",
    ")"
   ]
  },
  {
   "cell_type": "code",
   "execution_count": null,
   "id": "d5dd034f",
   "metadata": {
    "scrolled": true
   },
   "outputs": [],
   "source": [
    "for i in range(1000):\n",
    "    if (i % 100) == 0:\n",
    "        print(\"\\r{0} / {1}\".format(i, 5000), flush=True, end=\" \")\n",
    "    state = algo.step(data, state, prior)"
   ]
  },
  {
   "cell_type": "code",
   "execution_count": null,
   "id": "6d4e6c42",
   "metadata": {},
   "outputs": [],
   "source": [
    "states = [state]\n",
    "for i in range(1000):\n",
    "    if (i % 100) == 0:\n",
    "        print(\"\\r{0} / {1}\".format(i, 5000), flush=True, end=\" \")\n",
    "    state = algo.step(data, state, prior)\n",
    "    states.append(state)"
   ]
  },
  {
   "cell_type": "code",
   "execution_count": null,
   "id": "fde2441b",
   "metadata": {},
   "outputs": [],
   "source": [
    "np.unique(state.latent_centers[state.active_t_vals])"
   ]
  },
  {
   "cell_type": "code",
   "execution_count": null,
   "id": "76fdc679",
   "metadata": {},
   "outputs": [],
   "source": [
    "import pickle\n",
    "\n",
    "with open(\"t_data/t_simulation_mcmc_sncp.pickle\", \"wb\") as fp:\n",
    "   pickle.dump(states, fp)"
   ]
  },
  {
   "cell_type": "code",
   "execution_count": null,
   "id": "7262d3af",
   "metadata": {},
   "outputs": [],
   "source": [
    "with open(\"t_data/t_simulation_mcmc_sncp.pickle\", \"rb\") as fp:\n",
    "   states = pickle.load(fp)"
   ]
  },
  {
   "cell_type": "code",
   "execution_count": null,
   "id": "f09c83a9",
   "metadata": {},
   "outputs": [],
   "source": [
    "grid = np.linspace(-15, 15, 1000)\n",
    "\n",
    "\n",
    "def get_dens(state, grid):\n",
    "    eval_comps = tfd.Normal(state.alloc_atoms[:, 0], np.sqrt(state.alloc_atoms[:, 1])).prob(grid[:, np.newaxis]) \n",
    "    weights = state.alloc_jumps\n",
    "    weights /= np.sum(weights)\n",
    "    dens = np.sum(eval_comps * weights, axis=1)\n",
    "    return dens"
   ]
  },
  {
   "cell_type": "code",
   "execution_count": null,
   "id": "ff99992c",
   "metadata": {},
   "outputs": [],
   "source": [
    "from joblib import Parallel, delayed\n",
    "\n",
    "\n",
    "eval_dens = Parallel(n_jobs=4)(\n",
    "    delayed(lambda x: get_dens(x, grid))(x) for x in states[1:])"
   ]
  },
  {
   "cell_type": "code",
   "execution_count": null,
   "id": "fe8bd2c4",
   "metadata": {},
   "outputs": [],
   "source": [
    "eval_dens = np.vstack(eval_dens)\n",
    "eval_dens.shape"
   ]
  },
  {
   "cell_type": "code",
   "execution_count": null,
   "id": "c745c038",
   "metadata": {},
   "outputs": [],
   "source": [
    "from bayesmixpy import build_bayesmix, run_mcmc\n",
    "\n",
    "build_bayesmix(4)"
   ]
  },
  {
   "cell_type": "code",
   "execution_count": null,
   "id": "7afddd86",
   "metadata": {},
   "outputs": [],
   "source": [
    "mfm_params = \"\"\"\n",
    "fixed_value {\n",
    "    lambda: 4.0\n",
    "    gamma: 1.0\n",
    "}\n",
    "\"\"\"\n",
    "\n",
    "g0_params = \"\"\"\n",
    "fixed_values {\n",
    "    mean: 0.0\n",
    "    var_scaling: 0.1\n",
    "    shape: 2.0\n",
    "    scale: 2.0\n",
    "}\n",
    "\"\"\"\n",
    "\n",
    "algo_params = \"\"\"\n",
    "    algo_id: \"Neal2\"\n",
    "    rng_seed: 20201124\n",
    "    iterations: 10000\n",
    "    burnin: 5000\n",
    "    init_num_clusters: 6\n",
    "    neal8_n_aux: 10\n",
    "\"\"\"\n",
    "\n",
    "data = np.concatenate([\n",
    "    tfd.StudentT(3, 0, 1).sample(100) - 5,\n",
    "    tfd.StudentT(3, 0, 1).sample(100) +5\n",
    "])\n",
    "data = np.sort(data)\n",
    "\n",
    "\n",
    "log_dens_dp, numcluschain_dp, cluschain_dp, bestclus_dp = run_mcmc(\n",
    "    \"NNIG\", \"MFM\", data, g0_params, mfm_params, algo_params, \n",
    "    dens_grid=grid, return_clusters=True, return_num_clusters=True,\n",
    "    return_best_clus=False, out_dir=\"t_data/\")"
   ]
  },
  {
   "cell_type": "code",
   "execution_count": null,
   "id": "c320cc8f",
   "metadata": {},
   "outputs": [],
   "source": [
    "figure = plt.figure(figsize=(5, 5))\n",
    "plt.imshow(get_psm(cluschain_dp, False), cmap=\"Greys\")\n",
    "plt.title(\"PSM - IFPP\", fontsize=18)\n",
    "plt.savefig(\"sncp_simulation_a.pdf\",bbox_inches=\"tight\")"
   ]
  },
  {
   "cell_type": "code",
   "execution_count": null,
   "id": "4cd6a768",
   "metadata": {},
   "outputs": [],
   "source": [
    "numcluschain_dp = np.loadtxt(\"./t_data/n_clus.csv\")\n",
    "log_dens_dp = np.loadtxt(\"./t_data/eval_dens.csv\", delimiter=\",\")\n",
    "cluschain_dp = np.loadtxt(\"./t_data/clus.csv\", delimiter=\",\").astype(int)\n"
   ]
  },
  {
   "cell_type": "code",
   "execution_count": null,
   "id": "da55c141",
   "metadata": {},
   "outputs": [],
   "source": [
    "from scipy.cluster.hierarchy import linkage\n",
    "\n",
    "def get_psm(clus_chain, sort=True):\n",
    "    ndata = clus_chain.shape[1]\n",
    "    out = np.zeros((ndata, ndata))\n",
    "    for i in range(ndata):\n",
    "        for j in range(i):\n",
    "            out[i, j] = out[j, i] = np.mean(clus_chain[:, i] == clus_chain[:, j])\n",
    "            \n",
    "    out = out + np.eye(ndata)\n",
    "    \n",
    "    if sort:\n",
    "        y = 1 - out[np.triu_indices(len(out), k=1)]\n",
    "        Z = linkage(y, method='single', optimal_ordering=True)\n",
    "        perm = np.ravel(Z[:, :2]).astype(np.int32)\n",
    "        perm = perm[perm < len(out)]\n",
    "        out = out[perm][:, perm]\n",
    "    \n",
    "    return out\n",
    "\n",
    "def get_bars_heights(x, clus):\n",
    "    counts = np.sum(clus == x[:, np.newaxis], axis=1)\n",
    "    return counts / np.sum(counts)"
   ]
  },
  {
   "cell_type": "code",
   "execution_count": null,
   "id": "957425fb",
   "metadata": {},
   "outputs": [],
   "source": [
    "import pickle \n",
    "\n",
    "with open(\"t_data/t_out_repulsive.pickle\", \"rb\") as fp:\n",
    "    repulsive_fit = pickle.load(fp)\n",
    "\n",
    "repulsive_fit.keys()"
   ]
  },
  {
   "cell_type": "code",
   "execution_count": null,
   "id": "3191fe5b",
   "metadata": {},
   "outputs": [],
   "source": [
    "figure = plt.figure(figsize=(5, 5))\n",
    "cluschain_sncp = np.vstack([x.t_vals[x.clus] for x in states])\n",
    "plt.imshow(get_psm(cluschain_sncp, False), cmap=\"Greys\")\n",
    "plt.title(\"PSM - SNCP\", fontsize=18)\n",
    "plt.savefig(\"sncp_simulation_b.pdf\",bbox_inches=\"tight\")"
   ]
  },
  {
   "cell_type": "code",
   "execution_count": null,
   "id": "3baef10f",
   "metadata": {},
   "outputs": [],
   "source": [
    "figure = plt.figure(figsize=(5, 5))\n",
    "x = np.arange(1, 12)\n",
    "\n",
    "cluschain_sncp = np.vstack([x.t_vals[x.clus] for x in states])\n",
    "nclus2 = np.array([len(np.unique(x)) for x in cluschain_sncp])\n",
    "h2 = get_bars_heights(x, nclus2)\n",
    "plt.plot(x, h2, \"X--\", lw=2, markersize=10, color=\"blue\", label=\"SNCP\")\n",
    "\n",
    "h2 = get_bars_heights(x, repulsive_fit[\"nclus_chain\"])\n",
    "plt.plot(x, h2, linestyle=\"dotted\", lw=2, markersize=10, color=\"orange\", label=\"DPP\")\n",
    "\n",
    "h3 = get_bars_heights(x, numcluschain_dp)\n",
    "plt.plot(x, h3, \"+:\", lw=2, markersize=10, markeredgewidth = 3, color=\"forestgreen\", label=\"IFPP\")\n",
    "plt.legend(fontsize=18)\n",
    "plt.title(\"# Clusters\", fontsize=18)\n",
    "plt.xlabel(\"c\", fontsize=16)\n",
    "plt.ylabel(\"P($K_n$ = c)\", fontsize=16)\n",
    "plt.xticks(x)\n",
    "plt.savefig(\"sncp_simulation_c.pdf\",bbox_inches=\"tight\")"
   ]
  },
  {
   "cell_type": "code",
   "execution_count": null,
   "id": "6e72df69",
   "metadata": {},
   "outputs": [],
   "source": [
    "true_dens = 0.5 * tfd.StudentT(3, -5, 1).prob(grid) + 0.5 * tfd.StudentT(3, 5, 1).prob(grid)"
   ]
  },
  {
   "cell_type": "code",
   "execution_count": null,
   "id": "57c23f3f",
   "metadata": {},
   "outputs": [],
   "source": [
    "figure = plt.figure(figsize=(5, 5))\n",
    "\n",
    "plt.plot(grid, true_dens, color=\"red\", label=\"True\")\n",
    "plt.plot(grid, np.mean(eval_dens, axis=0), color=\"blue\", label=\"SNCP\")\n",
    "plt.plot(repulsive_fit[\"xgrid\"], np.mean(repulsive_fit[\"dens_dpp\"], axis=0),\n",
    "          color=\"orange\", label=\"DPP\")\n",
    "\n",
    "plt.plot(grid, np.mean(np.exp(log_dens_dp), axis=0),  color=\"forestgreen\", label=\"IFPP\")\n",
    "plt.xlim(-12, 12)\n",
    "plt.legend(fontsize=18, ncol=2, loc=\"lower left\", bbox_to_anchor=(0.05, -0.3))\n",
    "plt.title(\"Density Estimate\", fontsize=19)\n",
    "plt.savefig(\"sncp_simulation_d.pdf\", bbox_inches=\"tight\")"
   ]
  },
  {
   "cell_type": "markdown",
   "id": "261e159d",
   "metadata": {},
   "source": [
    "# Data From Miller and Dunson"
   ]
  },
  {
   "cell_type": "code",
   "execution_count": null,
   "id": "ea830c69",
   "metadata": {},
   "outputs": [],
   "source": [
    "import pickle"
   ]
  },
  {
   "cell_type": "code",
   "execution_count": null,
   "id": "24798f2b",
   "metadata": {},
   "outputs": [],
   "source": [
    "with open(\"contaminated_data/miller_out_repulsive.pickle\", \"rb\") as fp:\n",
    "    repulsive_fit = pickle.load(fp)\n",
    "\n",
    "repulsive_fit.keys()"
   ]
  },
  {
   "cell_type": "code",
   "execution_count": null,
   "id": "6b1ddea2",
   "metadata": {},
   "outputs": [],
   "source": [
    "with open(\"contaminated_data/miller_data.pickle\", \"rb\") as fp:\n",
    "    miller_data = pickle.load(fp)\n",
    "\n",
    "miller_data.keys()"
   ]
  },
  {
   "cell_type": "code",
   "execution_count": null,
   "id": "905fa717",
   "metadata": {},
   "outputs": [],
   "source": [
    "data = miller_data[\"data\"]\n",
    "grid = repulsive_fit[\"xgrid\"]"
   ]
  },
  {
   "cell_type": "code",
   "execution_count": null,
   "id": "5d111814",
   "metadata": {},
   "outputs": [],
   "source": [
    "import seaborn as sns\n",
    "from sklearn.metrics import pairwise_distances\n",
    "from scipy.stats import gaussian_kde\n",
    "\n",
    "from scipy.signal import argrelextrema\n",
    "\n",
    "grid = np.linspace(0, 15, 500)\n",
    "dists = np.sort(pairwise_distances(data.reshape(-1, 1)).reshape(-1,))\n",
    "kde_dens = gaussian_kde(dists)\n",
    "eval_dens = kde_dens.pdf(grid)\n",
    "argmins = argrelextrema(eval_dens, np.less)[0]\n",
    "\n",
    "plt.plot(grid, eval_dens, color=\"k\")\n",
    "plt.vlines(grid[argmins[0]], ymin=0, ymax=1, color=\"r\")\n",
    "plt.ylim((0, 0.25))\n",
    "plt.title(r\"Pairwise Distances - Contaminated Data\", fontsize=18)\n",
    "plt.savefig(\"plots/miller_distances.pdf\", bbox_inches=\"tight\")"
   ]
  },
  {
   "cell_type": "code",
   "execution_count": null,
   "id": "641011fb",
   "metadata": {},
   "outputs": [],
   "source": [
    "from bayesmixpy import build_bayesmix, run_mcmc\n",
    "\n",
    "dp_params = \"\"\"\n",
    "fixed_value {\n",
    "    totalmass: 1.0\n",
    "}\n",
    "\"\"\"\n",
    "\n",
    "mfm_params = \"\"\"\n",
    "fixed_value {\n",
    "    lambda: 4.0\n",
    "    gamma: 1.0\n",
    "}\n",
    "\"\"\"\n",
    "\n",
    "g0_params = \"\"\"\n",
    "fixed_values {\n",
    "    mean: 0.0\n",
    "    var_scaling: 0.1\n",
    "    shape: 2.0\n",
    "    scale: 2.0\n",
    "}\n",
    "\"\"\"\n",
    "\n",
    "algo_params = \"\"\"\n",
    "    algo_id: \"Neal2\"\n",
    "    rng_seed: 20201124\n",
    "    iterations: 2000\n",
    "    burnin: 1000\n",
    "    init_num_clusters: 3\n",
    "\"\"\"\n",
    "\n",
    "log_dens_dp, numcluschain_dp, cluschain_dp, bestclus_dp = run_mcmc(\n",
    "    \"NNIG\", \"MFM\", miller_data[\"data\"], g0_params, mfm_params, algo_params, \n",
    "    dens_grid=grid, return_clusters=True, return_num_clusters=True,\n",
    "    return_best_clus=True, out_dir=\"./miller_data/ifpp\")"
   ]
  },
  {
   "cell_type": "code",
   "execution_count": null,
   "id": "fb66ecbe",
   "metadata": {},
   "outputs": [],
   "source": [
    "prior = Prior(\n",
    "  alpha = 1,\n",
    "  big_mean = np.mean(data),\n",
    "  big_var = np.var(data) * 5,\n",
    "  gamma = 1.0,\n",
    "  jump_a = 1.0,\n",
    "  jump_b = 10.0,\n",
    "  var_a = 6.0,\n",
    "  var_b = 3.0\n",
    ")\n",
    "\n",
    "n_atoms = 5\n",
    "\n",
    "alloc_atoms = np.hstack([np.random.normal(0, np.std(data) * 3, size=(n_atoms, 1)),\n",
    "                           np.ones((n_atoms, 1)) * 1])\n",
    "non_alloc_atoms = np.hstack([np.random.normal(0, np.std(data) * 3, size=(n_atoms, 1)),\n",
    "                               np.ones((n_atoms, 1))])\n",
    "\n",
    "state = State(\n",
    "  iter = 0,\n",
    "  clus = np.random.choice(np.arange(n_atoms), len(data)),\n",
    "  alloc_atoms = alloc_atoms,\n",
    "  non_alloc_atoms = non_alloc_atoms,\n",
    "  alloc_jumps = np.ones(n_atoms),\n",
    "  non_alloc_jumps = np.ones(n_atoms),\n",
    "  u = 5,\n",
    "  latent_centers = np.array([-5, -1,  0,  2, 7]),\n",
    "  t_vals = np.random.choice(np.arange(5), 2 * n_atoms)\n",
    ")\n",
    "\n",
    "for i in range(1000):\n",
    "    if (i % 100) == 0:\n",
    "        print(\"\\r{0} / {1}\".format(i, 1000), flush=True, end=\" \")\n",
    "    state = algo.step(data, state, prior)\n",
    "\n",
    "states = []\n",
    "for i in range(1000):\n",
    "    if (i % 100) == 0:\n",
    "        print(\"\\r{0} / {1}\".format(i, 1000), flush=True, end=\" \")\n",
    "    state = algo.step(data, state, prior)\n",
    "    states.append(state)"
   ]
  },
  {
   "cell_type": "code",
   "execution_count": null,
   "id": "a14c03c6",
   "metadata": {},
   "outputs": [],
   "source": [
    "import pickle\n",
    "\n",
    "with open(\"contaminated_data/miller_simulation_mcmc_sncp.pickle\", \"wb\") as fp:\n",
    "  pickle.dump(states, fp)"
   ]
  },
  {
   "cell_type": "code",
   "execution_count": null,
   "id": "465dfba0",
   "metadata": {},
   "outputs": [],
   "source": [
    "eval_dens = Parallel(n_jobs=4)(\n",
    "    delayed(lambda x: get_dens(x, grid))(x) for x in states)\n",
    "eval_dens = np.vstack(eval_dens)"
   ]
  },
  {
   "cell_type": "code",
   "execution_count": null,
   "id": "61f45b17",
   "metadata": {},
   "outputs": [],
   "source": [
    "figure = plt.figure(figsize=(5, 5))\n",
    "x = np.arange(1, 12)\n",
    "\n",
    "cluschain_sncp = np.vstack([x.t_vals[x.clus] for x in states])\n",
    "nclus2 = np.array([len(np.unique(x)) for x in cluschain_sncp])\n",
    "\n",
    "h2 = get_bars_heights(x, nclus2)\n",
    "plt.plot(x, h2, \"X--\", lw=2, markersize=10, color=\"blue\", label=\"SNCP\")\n",
    "\n",
    "h2 = get_bars_heights(x, repulsive_fit[\"nclus_chain\"])\n",
    "plt.plot(x, h2, marker=\"o\", linestyle=\"dotted\", lw=2, markersize=10, color=\"orange\", label=\"DPP\")\n",
    "\n",
    "h3 = get_bars_heights(x, numcluschain_dp)\n",
    "plt.plot(x, h3, \"+:\", lw=2, markersize=10, markeredgewidth = 3, color=\"forestgreen\", label=\"IFPP\")\n",
    "plt.legend(fontsize=18, ncol=2, loc=\"lower left\", bbox_to_anchor=(0.05, -0.3))\n",
    "plt.title(\"# Clusters\", fontsize=18)\n",
    "# plt.xlabel(\"c\", fontsize=16)\n",
    "plt.ylabel(\"P($K_n$ = c)\", fontsize=16)\n",
    "plt.xticks(x)\n",
    "# plt.show()\n",
    "plt.savefig(\"miller_simulation_miller_nclus.pdf\",bbox_inches=\"tight\")"
   ]
  },
  {
   "cell_type": "code",
   "execution_count": null,
   "id": "b189748d",
   "metadata": {},
   "outputs": [],
   "source": [
    "true_f = np.zeros_like(grid)\n",
    "for w, mu, s in zip(miller_data[\"w_t\"], miller_data[\"true_mu\"], miller_data[\"true_sigma\"]):\n",
    "    true_f += w * tfd.Normal(mu, s).prob(grid)"
   ]
  },
  {
   "cell_type": "code",
   "execution_count": null,
   "id": "16d5a26d",
   "metadata": {},
   "outputs": [],
   "source": [
    "figure = plt.figure(figsize=(5, 5))\n",
    "\n",
    "plt.plot(grid, true_f, color=\"red\", label=\"True\")\n",
    "plt.plot(grid, np.mean(eval_dens, axis=0), color=\"blue\", label=\"SNCP\")\n",
    "plt.plot(repulsive_fit[\"xgrid\"], np.mean(repulsive_fit[\"dens_dpp\"], axis=0),\n",
    "          color=\"orange\", label=\"DPP\")\n",
    "\n",
    "# plt.plot(grid, np.mean(np.exp(log_dens_dp), axis=0),  color=\"forestgreen\", label=\"IFPP\")\n",
    "plt.legend(fontsize=18, ncol=2, loc=\"lower left\", bbox_to_anchor=(0.05, -0.3))\n",
    "plt.title(\"Density Estimate\", fontsize=19)\n",
    "# plt.savefig(\"sncp_simulation_miller_density.pdf\", bbox_inches=\"tight\")"
   ]
  }
 ],
 "metadata": {
  "kernelspec": {
   "display_name": "base",
   "language": "python",
   "name": "python3"
  },
  "language_info": {
   "codemirror_mode": {
    "name": "ipython",
    "version": 3
   },
   "file_extension": ".py",
   "mimetype": "text/x-python",
   "name": "python",
   "nbconvert_exporter": "python",
   "pygments_lexer": "ipython3",
   "version": "3.12.8"
  }
 },
 "nbformat": 4,
 "nbformat_minor": 5
}
